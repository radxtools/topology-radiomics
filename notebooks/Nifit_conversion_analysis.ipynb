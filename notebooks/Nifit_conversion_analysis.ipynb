{
 "cells": [
  {
   "cell_type": "markdown",
   "metadata": {},
   "source": [
    "This notebook is being used to load nii files in matlab\n",
    "1. The script nifit_to_mat is called for each file in the `data` directory\n",
    "2. This notebook is uses scipy loadmat functionality to load the same data\n",
    "3. An histogram is used to verify that the contents of the matlab files are the same"
   ]
  },
  {
   "cell_type": "code",
   "execution_count": 64,
   "metadata": {},
   "outputs": [],
   "source": [
    "from scipy.io import *\n",
    "import numpy as np\n",
    "from pprint import pprint"
   ]
  },
  {
   "cell_type": "code",
   "execution_count": 110,
   "metadata": {},
   "outputs": [],
   "source": [
    "# X = loadmat('studies/1/data-m/FLAIR_reg.mat') #np.arange(0,2101,100) # bins don't make sense\n",
    "# X = loadmat('studies/1/data-m/new_label.mat') #[0,1,2,3,4] # this is good!\n",
    "X = loadmat('studies/1/data-m/T1_reg.mat')\n",
    "# X = loadmat('studies/1/data-m/T2_reg.mat')"
   ]
  },
  {
   "cell_type": "code",
   "execution_count": 111,
   "metadata": {},
   "outputs": [
    {
     "data": {
      "text/plain": [
       "numpy.ndarray"
      ]
     },
     "execution_count": 111,
     "metadata": {},
     "output_type": "execute_result"
    }
   ],
   "source": [
    "type(X['data'])"
   ]
  },
  {
   "cell_type": "code",
   "execution_count": 112,
   "metadata": {},
   "outputs": [],
   "source": [
    "A = X['data']"
   ]
  },
  {
   "cell_type": "code",
   "execution_count": 113,
   "metadata": {},
   "outputs": [
    {
     "data": {
      "text/plain": [
       "array([ 3.07389   ,  0.95547724,  0.633068  , ..., 15.853     ,\n",
       "        7.7883205 ,  0.9110867 ], dtype=float32)"
      ]
     },
     "execution_count": 113,
     "metadata": {},
     "output_type": "execute_result"
    }
   ],
   "source": [
    "A[A>0]"
   ]
  },
  {
   "cell_type": "code",
   "execution_count": 117,
   "metadata": {},
   "outputs": [
    {
     "data": {
      "text/plain": [
       "(2449.9934, 0.0, dtype('<f4'))"
      ]
     },
     "execution_count": 117,
     "metadata": {},
     "output_type": "execute_result"
    }
   ],
   "source": [
    "A.max(), A.min(), A.dtype"
   ]
  },
  {
   "cell_type": "code",
   "execution_count": 103,
   "metadata": {},
   "outputs": [
    {
     "data": {
      "text/plain": [
       "(8530021, (229, 193, 193))"
      ]
     },
     "execution_count": 103,
     "metadata": {},
     "output_type": "execute_result"
    }
   ],
   "source": [
    "A.size, A.shape"
   ]
  },
  {
   "cell_type": "code",
   "execution_count": 104,
   "metadata": {},
   "outputs": [],
   "source": [
    "T = A.reshape((1,-1))"
   ]
  },
  {
   "cell_type": "code",
   "execution_count": 105,
   "metadata": {},
   "outputs": [
    {
     "data": {
      "text/plain": [
       "(1, 8530021)"
      ]
     },
     "execution_count": 105,
     "metadata": {},
     "output_type": "execute_result"
    }
   ],
   "source": [
    "T.shape"
   ]
  },
  {
   "cell_type": "code",
   "execution_count": 106,
   "metadata": {},
   "outputs": [
    {
     "data": {
      "text/plain": [
       "(array([   0,  100,  200,  300,  400,  500,  600,  700,  800,  900, 1000,\n",
       "        1100, 1200, 1300, 1400, 1500, 1600, 1700, 1800, 1900, 2000, 2100]), 22)"
      ]
     },
     "execution_count": 106,
     "metadata": {},
     "output_type": "execute_result"
    }
   ],
   "source": [
    "bins = np.arange(0,2101,100)\n",
    "bins, len(bins)"
   ]
  },
  {
   "cell_type": "code",
   "execution_count": 107,
   "metadata": {},
   "outputs": [],
   "source": [
    "counts, bins = np.histogram(T,bins)"
   ]
  },
  {
   "cell_type": "code",
   "execution_count": 108,
   "metadata": {},
   "outputs": [
    {
     "name": "stdout",
     "output_type": "stream",
     "text": [
      "[(5469553, 0),\n",
      " (351050, 100),\n",
      " (496168, 200),\n",
      " (1027648, 300),\n",
      " (567444, 400),\n",
      " (240249, 500),\n",
      " (148729, 600),\n",
      " (66722, 700),\n",
      " (47817, 800),\n",
      " (40749, 900),\n",
      " (36107, 1000),\n",
      " (24033, 1100),\n",
      " (10485, 1200),\n",
      " (2649, 1300),\n",
      " (559, 1400),\n",
      " (40, 1500),\n",
      " (10, 1600),\n",
      " (6, 1700),\n",
      " (1, 1800),\n",
      " (2, 1900),\n",
      " (0, 2000)]\n"
     ]
    }
   ],
   "source": [
    "pprint(list(zip(counts, bins)))"
   ]
  },
  {
   "cell_type": "code",
   "execution_count": 109,
   "metadata": {},
   "outputs": [
    {
     "data": {
      "text/plain": [
       "22"
      ]
     },
     "execution_count": 109,
     "metadata": {},
     "output_type": "execute_result"
    }
   ],
   "source": [
    "len(bins)"
   ]
  },
  {
   "cell_type": "code",
   "execution_count": null,
   "metadata": {},
   "outputs": [],
   "source": []
  }
 ],
 "metadata": {
  "kernelspec": {
   "display_name": "Python 3",
   "language": "python",
   "name": "python3"
  },
  "language_info": {
   "codemirror_mode": {
    "name": "ipython",
    "version": 3
   },
   "file_extension": ".py",
   "mimetype": "text/x-python",
   "name": "python",
   "nbconvert_exporter": "python",
   "pygments_lexer": "ipython3",
   "version": "3.6.5"
  }
 },
 "nbformat": 4,
 "nbformat_minor": 2
}
