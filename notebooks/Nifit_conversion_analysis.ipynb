{
 "cells": [
  {
   "cell_type": "markdown",
   "metadata": {},
   "source": [
    "This notebook is being used to load nii files in matlab\n",
    "1. The script nifit_to_mat is called for each file in the `data` directory\n",
    "2. This notebook is uses scipy loadmat functionality to load the same data\n",
    "3. An histogram is used to verify that the contents of the matlab files are the same"
   ]
  },
  {
   "cell_type": "code",
   "execution_count": 4,
   "metadata": {},
   "outputs": [],
   "source": [
    "from scipy.io import *\n",
    "import numpy as np\n",
    "from pprint import pprint"
   ]
  },
  {
   "cell_type": "code",
   "execution_count": 9,
   "metadata": {},
   "outputs": [
    {
     "name": "stdout",
     "output_type": "stream",
     "text": [
      " Volume in drive C has no label.\n",
      " Volume Serial Number is 14A7-6F65\n",
      "\n",
      " Directory of C:\\Users\\admin\\bric-morphology\\notebooks\n",
      "\n",
      "08/18/2020  02:37 PM    <DIR>          .\n",
      "08/18/2020  02:37 PM    <DIR>          ..\n",
      "08/18/2020  02:37 PM    <DIR>          .ipynb_checkpoints\n",
      "08/17/2020  03:50 AM           515,491 nibabel and nilearn testing.ipynb\n",
      "08/18/2020  02:37 PM             5,330 Nifit_conversion_analysis.ipynb\n",
      "               2 File(s)        520,821 bytes\n",
      "               3 Dir(s)  98,394,353,664 bytes free\n"
     ]
    }
   ],
   "source": [
    "!dir"
   ]
  },
  {
   "cell_type": "code",
   "execution_count": 10,
   "metadata": {},
   "outputs": [],
   "source": [
    "# X = loadmat('studies/1/data-m/FLAIR_reg.mat') #np.arange(0,2101,100) # bins don't make sense\n",
    "# X = loadmat('studies/1/data-m/new_label.mat') #[0,1,2,3,4] # this is good!\n",
    "X = loadmat('../studies/1/data-m/T1_reg.mat')\n",
    "# X = loadmat('studies/1/data-m/T2_reg.mat')"
   ]
  },
  {
   "cell_type": "code",
   "execution_count": 11,
   "metadata": {},
   "outputs": [
    {
     "data": {
      "text/plain": [
       "numpy.ndarray"
      ]
     },
     "execution_count": 11,
     "metadata": {},
     "output_type": "execute_result"
    }
   ],
   "source": [
    "type(X['data'])"
   ]
  },
  {
   "cell_type": "code",
   "execution_count": 12,
   "metadata": {},
   "outputs": [],
   "source": [
    "A = X['data']"
   ]
  },
  {
   "cell_type": "code",
   "execution_count": 13,
   "metadata": {},
   "outputs": [
    {
     "data": {
      "text/plain": [
       "array([ 3.07389   ,  0.95547724,  0.633068  , ..., 15.853     ,\n",
       "        7.7883205 ,  0.9110867 ], dtype=float32)"
      ]
     },
     "execution_count": 13,
     "metadata": {},
     "output_type": "execute_result"
    }
   ],
   "source": [
    "A[A>0]"
   ]
  },
  {
   "cell_type": "code",
   "execution_count": 14,
   "metadata": {},
   "outputs": [
    {
     "data": {
      "text/plain": [
       "(2449.9934, 0.0, dtype('<f4'))"
      ]
     },
     "execution_count": 14,
     "metadata": {},
     "output_type": "execute_result"
    }
   ],
   "source": [
    "A.max(), A.min(), A.dtype"
   ]
  },
  {
   "cell_type": "code",
   "execution_count": 15,
   "metadata": {},
   "outputs": [
    {
     "data": {
      "text/plain": [
       "(8530021, (229, 193, 193))"
      ]
     },
     "execution_count": 15,
     "metadata": {},
     "output_type": "execute_result"
    }
   ],
   "source": [
    "A.size, A.shape"
   ]
  },
  {
   "cell_type": "code",
   "execution_count": 16,
   "metadata": {},
   "outputs": [],
   "source": [
    "T = A.reshape((1,-1))"
   ]
  },
  {
   "cell_type": "code",
   "execution_count": 17,
   "metadata": {},
   "outputs": [
    {
     "data": {
      "text/plain": [
       "(1, 8530021)"
      ]
     },
     "execution_count": 17,
     "metadata": {},
     "output_type": "execute_result"
    }
   ],
   "source": [
    "T.shape"
   ]
  },
  {
   "cell_type": "code",
   "execution_count": 19,
   "metadata": {},
   "outputs": [
    {
     "data": {
      "text/plain": [
       "(array([   0,  100,  200,  300,  400,  500,  600,  700,  800,  900, 1000,\n",
       "        1100, 1200, 1300, 1400, 1500, 1600, 1700, 1800, 1900, 2000, 2100]),\n",
       " 22)"
      ]
     },
     "execution_count": 19,
     "metadata": {},
     "output_type": "execute_result"
    }
   ],
   "source": [
    "bins = np.arange(0,2101,100)\n",
    "bins, len(bins)"
   ]
  },
  {
   "cell_type": "code",
   "execution_count": 20,
   "metadata": {},
   "outputs": [],
   "source": [
    "counts, bins = np.histogram(T,bins)"
   ]
  },
  {
   "cell_type": "code",
   "execution_count": 21,
   "metadata": {},
   "outputs": [
    {
     "name": "stdout",
     "output_type": "stream",
     "text": [
      "[(5324738, 0),\n",
      " (137943, 100),\n",
      " (127516, 200),\n",
      " (163939, 300),\n",
      " (264412, 400),\n",
      " (517260, 500),\n",
      " (829898, 600),\n",
      " (599577, 700),\n",
      " (184845, 800),\n",
      " (142543, 900),\n",
      " (104849, 1000),\n",
      " (69783, 1100),\n",
      " (34142, 1200),\n",
      " (14280, 1300),\n",
      " (7401, 1400),\n",
      " (3841, 1500),\n",
      " (1883, 1600),\n",
      " (696, 1700),\n",
      " (259, 1800),\n",
      " (104, 1900),\n",
      " (59, 2000)]\n"
     ]
    }
   ],
   "source": [
    "pprint(list(zip(counts, bins)))"
   ]
  },
  {
   "cell_type": "code",
   "execution_count": 22,
   "metadata": {},
   "outputs": [
    {
     "data": {
      "text/plain": [
       "22"
      ]
     },
     "execution_count": 22,
     "metadata": {},
     "output_type": "execute_result"
    }
   ],
   "source": [
    "len(bins)"
   ]
  },
  {
   "cell_type": "code",
   "execution_count": null,
   "metadata": {},
   "outputs": [],
   "source": []
  }
 ],
 "metadata": {
  "kernelspec": {
   "display_name": "Python 3",
   "language": "python",
   "name": "python3"
  },
  "language_info": {
   "codemirror_mode": {
    "name": "ipython",
    "version": 3
   },
   "file_extension": ".py",
   "mimetype": "text/x-python",
   "name": "python",
   "nbconvert_exporter": "python",
   "pygments_lexer": "ipython3",
   "version": "3.8.3"
  }
 },
 "nbformat": 4,
 "nbformat_minor": 2
}
